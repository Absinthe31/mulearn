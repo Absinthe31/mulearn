{
 "cells": [
  {
   "cell_type": "code",
   "execution_count": 1,
   "metadata": {},
   "outputs": [],
   "source": [
    "import gurobipy as gpy"
   ]
  },
  {
   "cell_type": "code",
   "execution_count": 2,
   "metadata": {},
   "outputs": [
    {
     "name": "stdout",
     "output_type": "stream",
     "text": [
      "Academic license - for non-commercial use only - expires 2022-05-19\n",
      "Using license file /home/malchiodi/.gurobi/gurobi.lic\n"
     ]
    }
   ],
   "source": [
    "model = gpy.Model('mulearn-scaled')"
   ]
  },
  {
   "cell_type": "code",
   "execution_count": 3,
   "metadata": {},
   "outputs": [],
   "source": [
    "x1 = model.addVar(name=f'x1', vtype=gpy.GRB.CONTINUOUS, lb=0, ub=1)\n",
    "x2 = model.addVar(name=f'x2', vtype=gpy.GRB.CONTINUOUS, lb=0, ub=1)"
   ]
  },
  {
   "cell_type": "code",
   "execution_count": 4,
   "metadata": {},
   "outputs": [],
   "source": [
    "l0 = 200\n",
    "l1 = -200"
   ]
  },
  {
   "cell_type": "code",
   "execution_count": 5,
   "metadata": {},
   "outputs": [],
   "source": [
    "x1.start = .45\n",
    "x2.start = .55"
   ]
  },
  {
   "cell_type": "code",
   "execution_count": 6,
   "metadata": {},
   "outputs": [],
   "source": [
    "obj = x1**2 +x2**2 + l0 * (x1 + x2 - 1) + l1 * (1 - x1 - x2)"
   ]
  },
  {
   "cell_type": "code",
   "execution_count": 7,
   "metadata": {},
   "outputs": [],
   "source": [
    "model.setObjective(obj, gpy.GRB.MAXIMIZE)\n",
    "#model.setParam(\"NonConvex\", 2)"
   ]
  },
  {
   "cell_type": "code",
   "execution_count": 8,
   "metadata": {},
   "outputs": [
    {
     "name": "stdout",
     "output_type": "stream",
     "text": [
      "Gurobi Optimizer version 9.1.2 build v9.1.2rc0 (linux64)\n",
      "Thread count: 4 physical cores, 8 logical processors, using up to 8 threads\n",
      "Optimize a model with 0 rows, 2 columns and 0 nonzeros\n",
      "Model fingerprint: 0x9d2b64a0\n",
      "Model has 2 quadratic objective terms\n",
      "Coefficient statistics:\n",
      "  Matrix range     [0e+00, 0e+00]\n",
      "  Objective range  [4e+02, 4e+02]\n",
      "  QObjective range [2e+00, 2e+00]\n",
      "  Bounds range     [1e+00, 1e+00]\n",
      "  RHS range        [0e+00, 0e+00]\n",
      "Presolve removed 0 rows and 2 columns\n",
      "Presolve time: 0.02s\n",
      "Presolve: All rows and columns removed\n",
      "\n",
      "Barrier solved model in 0 iterations and 0.02 seconds\n",
      "Optimal objective 4.02000000e+02\n"
     ]
    }
   ],
   "source": [
    "model.update()\n",
    "model.optimize()"
   ]
  },
  {
   "cell_type": "code",
   "execution_count": 9,
   "metadata": {},
   "outputs": [
    {
     "data": {
      "text/plain": [
       "1.0"
      ]
     },
     "execution_count": 9,
     "metadata": {},
     "output_type": "execute_result"
    }
   ],
   "source": [
    "x1.x"
   ]
  },
  {
   "cell_type": "code",
   "execution_count": 10,
   "metadata": {},
   "outputs": [
    {
     "data": {
      "text/plain": [
       "1.0"
      ]
     },
     "execution_count": 10,
     "metadata": {},
     "output_type": "execute_result"
    }
   ],
   "source": [
    "x2.x"
   ]
  },
  {
   "cell_type": "code",
   "execution_count": 11,
   "metadata": {},
   "outputs": [
    {
     "data": {
      "text/plain": [
       "402.0"
      ]
     },
     "execution_count": 11,
     "metadata": {},
     "output_type": "execute_result"
    }
   ],
   "source": [
    "model.objVal"
   ]
  },
  {
   "cell_type": "code",
   "execution_count": 12,
   "metadata": {},
   "outputs": [],
   "source": [
    "import tensorflow as tf\n",
    "import numpy as np"
   ]
  },
  {
   "cell_type": "markdown",
   "metadata": {},
   "source": [
    "# Rifacciamo tutto"
   ]
  },
  {
   "cell_type": "markdown",
   "metadata": {},
   "source": [
    "## Rilassamento lineare del vincolo di = e forma quadratica sviluppata"
   ]
  },
  {
   "cell_type": "code",
   "execution_count": 13,
   "metadata": {},
   "outputs": [],
   "source": [
    "# E' QUELLO GIUSTO\n",
    "\n",
    "from tensorflow.keras.optimizers import Adam\n",
    "\n",
    "def solve_problem(Q, q, A, b, C, d,\n",
    "                  max_iter=1000,\n",
    "                  max_gap=1E-4,\n",
    "                  alpha_0=1E-1,\n",
    "                  window_width=30,\n",
    "                  learning_rate=1E-2,\n",
    "                  verbose=False):\n",
    "    '''Solves the lagrangian relaxation for a constrained optimization\n",
    "    problem and returns its result. The structure of the primal problem\n",
    "    is the following\n",
    "    \n",
    "    min x.T Q x + q.T x\n",
    "    subject to\n",
    "    A x = b\n",
    "    C x <= d\n",
    "    \n",
    "    where .T denotes the transposition operator. Optimization takes place\n",
    "    in a iterated two-steps procedure: an outer process devoted to modifying\n",
    "    the values of the lagrange multipliers, and an inner process working on\n",
    "    the primal variables.\n",
    "    \n",
    "    The arguments are as follows, given n as the number of variables of\n",
    "    the primal problem (i.e., the length of x)\n",
    "    \n",
    "    - Q: n x n matrix containing the quadratic coefficients of the cost\n",
    "      function;\n",
    "    - q: vector containing the n linear coefficients of the cost function\n",
    "    - A: s x n matrix containing the coefficients of the = constraints\n",
    "    - b: vector containing the s right members of the = constraints\n",
    "    - C: t x n matrix containing the coefficients of the <= constraings\n",
    "    - d: vector containing the t right members of the <= coefficients\n",
    "    - max_iter: maximum number of iterations of the *outer* optimization\n",
    "      procedure\n",
    "    - max_gap: maximum gap between primal and dual objectives ensuring\n",
    "      premature end of the *outer* optimization procedure\n",
    "    - alpha_0: initial value of the learning rate in the *outer* optimization\n",
    "      procedure\n",
    "    - window_width: width of the moving window on the objective function for\n",
    "      the *inner* optimization process\n",
    "    - verbose: boolean flag triggering verbose output\n",
    "    \n",
    "    returns\n",
    "    '''\n",
    "    \n",
    "    optimizer = Adam(learning_rate=10**-2)\n",
    "\n",
    "    x = tf.Variable(np.random.random(len(q)),\n",
    "                    name='x',\n",
    "                    trainable=True,\n",
    "                    dtype=tf.float32)\n",
    "    Q = tf.constant(np.array(Q), dtype='float32')\n",
    "    q = tf.constant(np.array(q), dtype='float32')\n",
    "    \n",
    "    A = np.array(A)\n",
    "    s = len(A)\n",
    "    C = np.array(C)\n",
    "    b = np.array(b)\n",
    "    d = np.array(d)\n",
    "    \n",
    "    M = np.vstack([A, -A, C])\n",
    "    m = np.hstack([b, -b, d])\n",
    "    lambda_ = tf.constant(np.random.random(len(m)), dtype='float32')\n",
    "    \n",
    "    M = tf.constant(M, dtype='float32')\n",
    "    m = tf.constant(m, dtype='float32')\n",
    "\n",
    "    \n",
    "    def original_objective():\n",
    "        def obj():\n",
    "            return tf.tensordot(tf.linalg.matvec(Q, x), x, axes=1) + \\\n",
    "                   tf.tensordot(q, x, axes=1)\n",
    "        return obj\n",
    "\n",
    "    def lagrangian_objective(lambda_):\n",
    "        def obj():\n",
    "            return tf.tensordot(tf.linalg.matvec(Q, x), x, axes=1) + \\\n",
    "                   tf.tensordot(q, x, axes=1) + \\\n",
    "                   tf.tensordot(lambda_, m - tf.linalg.matvec(M, x), axes=1)\n",
    "        return obj\n",
    "\n",
    "    obj_val = []\n",
    "    lagr_val = []\n",
    "    gap_val = []\n",
    "    gap = max_gap + 1\n",
    "\n",
    "    num_bad_iterations = 0\n",
    "    prev_orig = np.inf\n",
    "\n",
    "    i = 0\n",
    "    \n",
    "    while i < max_iter and (gap<0 or gap > max_gap):\n",
    "        lagr_obj = lagrangian_objective(lambda_)\n",
    "        orig_obj = original_objective()\n",
    "        prev_lagr = 10*3\n",
    "        curr_lagr = 0\n",
    "        vals = []\n",
    "        t = 0\n",
    "        window_width = 30\n",
    "        window = list(np.logspace(1, window_width, window_width))\n",
    "        # this is to ensure a high value for the standard deviation\n",
    "        # of the elements to which the window has been initialized \n",
    "        \n",
    "        while (np.std(window)/abs(np.mean(window)) > 0.001 or t < 100) \\\n",
    "              and t < 1000:\n",
    "            optimizer.minimize(lagr_obj, var_list=x)\n",
    "            prev_lagr = curr_lagr\n",
    "            curr_lagr = lagr_obj().numpy()\n",
    "            vals.append(curr_lagr)\n",
    "            t += 1\n",
    "            window = window[1:]\n",
    "            window.append(curr_lagr)\n",
    "        \n",
    "        curr_orig = orig_obj().numpy()\n",
    "        if curr_orig < prev_orig:\n",
    "            num_bad_iterations += 1\n",
    "\n",
    "        prev_orig = curr_orig\n",
    "\n",
    "        \n",
    "        obj_val.append(curr_orig)\n",
    "        lagr_val.append(curr_lagr)\n",
    "        \n",
    "        subgradient = (m - tf.linalg.matvec(M, x)).numpy()\n",
    "        gap = tf.tensordot(lambda_[:2*s], m[:2*s] - \\\n",
    "              tf.linalg.matvec(M[:2*s], x), axes=1).numpy()\n",
    "        gap_val.append(gap)\n",
    "        \n",
    "        if verbose and i%10 == 0:\n",
    "            print(f'i={i}, dual={lagr_obj().numpy():.3f}, '\n",
    "                  f'prim={orig_obj().numpy():.3f}, gap={gap:.6f}')\n",
    "        \n",
    "        alpha = alpha_0 / num_bad_iterations\n",
    "        lambda_ = tf.maximum(0, lambda_ + alpha * subgradient)\n",
    "\n",
    "        i += 1\n",
    "\n",
    "    return obj_val, lagr_val, x, lambda_, gap_val\n",
    "\n",
    "    "
   ]
  },
  {
   "cell_type": "code",
   "execution_count": 14,
   "metadata": {},
   "outputs": [
    {
     "name": "stdout",
     "output_type": "stream",
     "text": [
      "i=0, dual=0.564, prim=0.102, gap=-0.391812\n",
      "i=10, dual=2.082, prim=0.369, gap=0.055170\n",
      "i=20, dual=2.598, prim=0.474, gap=0.013212\n",
      "i=30, dual=3.100, prim=0.495, gap=0.002692\n",
      "i=40, dual=3.601, prim=0.499, gap=0.000536\n",
      "i=50, dual=4.101, prim=0.500, gap=0.000103\n"
     ]
    }
   ],
   "source": [
    "Q = [[1, 0], [0, 1]]\n",
    "q = [0, 0]\n",
    "A = [[1, 1]]\n",
    "b = [1]\n",
    "C = [[-1, -1], [1, 0], [0, 1], [-1, 0], [0, -1]]\n",
    "d = [-1, 1, 1, 0, 0]\n",
    "\n",
    "obj_val, lagr_val, x, lambda_, gap = solve_problem(Q, q, A, b, C, d, max_gap=10**-4, verbose=True)"
   ]
  },
  {
   "cell_type": "code",
   "execution_count": 15,
   "metadata": {},
   "outputs": [
    {
     "data": {
      "image/png": "[encoded data removed]",
      "text/plain": [
       "<Figure size 432x288 with 1 Axes>"
      ]
     },
     "metadata": {
      "needs_background": "light"
     },
     "output_type": "display_data"
    }
   ],
   "source": [
    "import matplotlib.pyplot as plt\n",
    "\n",
    "plt.plot(np.arange(1, len(obj_val)+1), obj_val, label='primal')\n",
    "# plt.plot(np.arange(1, len(lagr_val)+1), lagr_val, label='dual')\n",
    "plt.legend()\n",
    "plt.show()"
   ]
  },
  {
   "cell_type": "code",
   "execution_count": 16,
   "metadata": {},
   "outputs": [
    {
     "data": {
      "image/png": "[encoded data removed]",
      "text/plain": [
       "<Figure size 432x288 with 1 Axes>"
      ]
     },
     "metadata": {
      "needs_background": "light"
     },
     "output_type": "display_data"
    }
   ],
   "source": [
    "plt.plot(np.arange(1, len(gap)+1), gap, label='gap')\n",
    "plt.ylim(0, 0.3)\n",
    "plt.legend()\n",
    "plt.show()"
   ]
  },
  {
   "cell_type": "code",
   "execution_count": 17,
   "metadata": {},
   "outputs": [
    {
     "data": {
      "text/plain": [
       "array([0.49247488, 0.5073348 ], dtype=float32)"
      ]
     },
     "execution_count": 17,
     "metadata": {},
     "output_type": "execute_result"
    }
   ],
   "source": [
    "x.numpy()"
   ]
  },
  {
   "cell_type": "code",
   "execution_count": 18,
   "metadata": {},
   "outputs": [
    {
     "data": {
      "text/plain": [
       "0.49992013"
      ]
     },
     "execution_count": 18,
     "metadata": {},
     "output_type": "execute_result"
    }
   ],
   "source": [
    "obj_val[-1]"
   ]
  },
  {
   "cell_type": "code",
   "execution_count": 19,
   "metadata": {},
   "outputs": [
    {
     "data": {
      "text/plain": [
       "8.916364e-05"
      ]
     },
     "execution_count": 19,
     "metadata": {},
     "output_type": "execute_result"
    }
   ],
   "source": [
    "gap[-1]"
   ]
  },
  {
   "cell_type": "markdown",
   "metadata": {},
   "source": [
    "## Facciamo una prova passo passo"
   ]
  },
  {
   "cell_type": "code",
   "execution_count": 20,
   "metadata": {},
   "outputs": [],
   "source": [
    "xs = np.array([[-2.68412563,  0.31939725],\n",
    "       [-2.71414169, -0.17700123],\n",
    "       [-2.88899057, -0.14494943],\n",
    "       [-2.74534286, -0.31829898],\n",
    "       [-2.72871654,  0.32675451],\n",
    "       [-2.28085963,  0.74133045],\n",
    "       [-2.82053775, -0.08946138],\n",
    "       [-2.62614497,  0.16338496],\n",
    "       [-2.88638273, -0.57831175],\n",
    "       [-2.6727558 , -0.11377425],\n",
    "       [-2.50694709,  0.6450689 ],\n",
    "       [-2.61275523,  0.01472994],\n",
    "       [-2.78610927, -0.235112  ],\n",
    "       [-3.22380374, -0.51139459],\n",
    "       [-2.64475039,  1.17876464],\n",
    "       [-2.38603903,  1.33806233],\n",
    "       [-2.62352788,  0.81067951],\n",
    "       [-2.64829671,  0.31184914],\n",
    "       [-2.19982032,  0.87283904],\n",
    "       [-2.5879864 ,  0.51356031],\n",
    "       [-2.31025622,  0.39134594],\n",
    "       [-2.54370523,  0.43299606],\n",
    "       [-3.21593942,  0.13346807],\n",
    "       [-2.30273318,  0.09870885],\n",
    "       [-2.35575405, -0.03728186],\n",
    "       [-2.50666891, -0.14601688],\n",
    "       [-2.46882007,  0.13095149],\n",
    "       [-2.56231991,  0.36771886],\n",
    "       [-2.63953472,  0.31203998],\n",
    "       [-2.63198939, -0.19696122],\n",
    "       [-2.58739848, -0.20431849],\n",
    "       [-2.4099325 ,  0.41092426],\n",
    "       [-2.64886233,  0.81336382],\n",
    "       [-2.59873675,  1.09314576],\n",
    "       [-2.63692688, -0.12132235],\n",
    "       [-2.86624165,  0.06936447],\n",
    "       [-2.62523805,  0.59937002],\n",
    "       [-2.80068412,  0.26864374],\n",
    "       [-2.98050204, -0.48795834],\n",
    "       [-2.59000631,  0.22904384],\n",
    "       [-2.77010243,  0.26352753],\n",
    "       [-2.84936871, -0.94096057],\n",
    "       [-2.99740655, -0.34192606],\n",
    "       [-2.40561449,  0.18887143],\n",
    "       [-2.20948924,  0.43666314],\n",
    "       [-2.71445143, -0.2502082 ],\n",
    "       [-2.53814826,  0.50377114],\n",
    "       [-2.83946217, -0.22794557],\n",
    "       [-2.54308575,  0.57941002],\n",
    "       [-2.70335978,  0.10770608],\n",
    "       [ 1.28482569,  0.68516047],\n",
    "       [ 0.93248853,  0.31833364],\n",
    "       [ 1.46430232,  0.50426282],\n",
    "       [ 0.18331772, -0.82795901],\n",
    "       [ 1.08810326,  0.07459068],\n",
    "       [ 0.64166908, -0.41824687],\n",
    "       [ 1.09506066,  0.28346827],\n",
    "       [-0.74912267, -1.00489096],\n",
    "       [ 1.04413183,  0.2283619 ],\n",
    "       [-0.0087454 , -0.72308191],\n",
    "       [-0.50784088, -1.26597119],\n",
    "       [ 0.51169856, -0.10398124],\n",
    "       [ 0.26497651, -0.55003646],\n",
    "       [ 0.98493451, -0.12481785],\n",
    "       [-0.17392537, -0.25485421],\n",
    "       [ 0.92786078,  0.46717949],\n",
    "       [ 0.66028376, -0.35296967],\n",
    "       [ 0.23610499, -0.33361077],\n",
    "       [ 0.94473373, -0.54314555],\n",
    "       [ 0.04522698, -0.58383438],\n",
    "       [ 1.11628318, -0.08461685],\n",
    "       [ 0.35788842, -0.06892503],\n",
    "       [ 1.29818388, -0.32778731],\n",
    "       [ 0.92172892, -0.18273779],\n",
    "       [ 0.71485333,  0.14905594],\n",
    "       [ 0.90017437,  0.32850447],\n",
    "       [ 1.33202444,  0.24444088],\n",
    "       [ 1.55780216,  0.26749545],\n",
    "       [ 0.81329065, -0.1633503 ],\n",
    "       [-0.30558378, -0.36826219],\n",
    "       [-0.06812649, -0.70517213],\n",
    "       [-0.18962247, -0.68028676],\n",
    "       [ 0.13642871, -0.31403244],\n",
    "       [ 1.38002644, -0.42095429],\n",
    "       [ 0.58800644, -0.48428742],\n",
    "       [ 0.80685831,  0.19418231],\n",
    "       [ 1.22069088,  0.40761959],\n",
    "       [ 0.81509524, -0.37203706],\n",
    "       [ 0.24595768, -0.2685244 ],\n",
    "       [ 0.16641322, -0.68192672],\n",
    "       [ 0.46480029, -0.67071154],\n",
    "       [ 0.8908152 , -0.03446444],\n",
    "       [ 0.23054802, -0.40438585],\n",
    "       [-0.70453176, -1.01224823],\n",
    "       [ 0.35698149, -0.50491009],\n",
    "       [ 0.33193448, -0.21265468],\n",
    "       [ 0.37621565, -0.29321893],\n",
    "       [ 0.64257601,  0.01773819],\n",
    "       [-0.90646986, -0.75609337],\n",
    "       [ 0.29900084, -0.34889781],\n",
    "       [ 2.53119273, -0.00984911],\n",
    "       [ 1.41523588, -0.57491635],\n",
    "       [ 2.61667602,  0.34390315],\n",
    "       [ 1.97153105, -0.1797279 ],\n",
    "       [ 2.35000592, -0.04026095],\n",
    "       [ 3.39703874,  0.55083667],\n",
    "       [ 0.52123224, -1.19275873],\n",
    "       [ 2.93258707,  0.3555    ],\n",
    "       [ 2.32122882, -0.2438315 ],\n",
    "       [ 2.91675097,  0.78279195],\n",
    "       [ 1.66177415,  0.24222841],\n",
    "       [ 1.80340195, -0.21563762],\n",
    "       [ 2.1655918 ,  0.21627559],\n",
    "       [ 1.34616358, -0.77681835],\n",
    "       [ 1.58592822, -0.53964071],\n",
    "       [ 1.90445637,  0.11925069],\n",
    "       [ 1.94968906,  0.04194326],\n",
    "       [ 3.48705536,  1.17573933],\n",
    "       [ 3.79564542,  0.25732297],\n",
    "       [ 1.30079171, -0.76114964],\n",
    "       [ 2.42781791,  0.37819601],\n",
    "       [ 1.19900111, -0.60609153],\n",
    "       [ 3.49992004,  0.4606741 ],\n",
    "       [ 1.38876613, -0.20439933],\n",
    "       [ 2.2754305 ,  0.33499061],\n",
    "       [ 2.61409047,  0.56090136],\n",
    "       [ 1.25850816, -0.17970479],\n",
    "       [ 1.29113206, -0.11666865],\n",
    "       [ 2.12360872, -0.20972948],\n",
    "       [ 2.38800302,  0.4646398 ],\n",
    "       [ 2.84167278,  0.37526917],\n",
    "       [ 3.23067366,  1.37416509],\n",
    "       [ 2.15943764, -0.21727758],\n",
    "       [ 1.44416124, -0.14341341],\n",
    "       [ 1.78129481, -0.49990168],\n",
    "       [ 3.07649993,  0.68808568],\n",
    "       [ 2.14424331,  0.1400642 ],\n",
    "       [ 1.90509815,  0.04930053],\n",
    "       [ 1.16932634, -0.16499026],\n",
    "       [ 2.10761114,  0.37228787],\n",
    "       [ 2.31415471,  0.18365128],\n",
    "       [ 1.9222678 ,  0.40920347],\n",
    "       [ 1.41523588, -0.57491635],\n",
    "       [ 2.56301338,  0.2778626 ],\n",
    "       [ 2.41874618,  0.3047982 ],\n",
    "       [ 1.94410979,  0.1875323 ],\n",
    "       [ 1.52716661, -0.37531698],\n",
    "       [ 1.76434572,  0.07885885],\n",
    "       [ 1.90094161,  0.11662796],\n",
    "       [ 1.39018886, -0.28266094]])"
   ]
  },
  {
   "cell_type": "code",
   "execution_count": 21,
   "metadata": {},
   "outputs": [],
   "source": [
    "mus = np.array([0, 0, 0, 0, 0, 0, 0, 0, 0, 0, 0, 0, 0, 0, 0, 0, 0, 0, 0, 0, 0, 0,\n",
    "       0, 0, 0, 0, 0, 0, 0, 0, 0, 0, 0, 0, 0, 0, 0, 0, 0, 0, 0, 0, 0, 0,\n",
    "       0, 0, 0, 0, 0, 0, 1, 1, 1, 1, 1, 1, 1, 1, 1, 1, 1, 1, 1, 1, 1, 1,\n",
    "       1, 1, 1, 1, 1, 1, 1, 1, 1, 1, 1, 1, 1, 1, 1, 1, 1, 1, 1, 1, 1, 1,\n",
    "       1, 1, 1, 1, 1, 1, 1, 1, 1, 1, 1, 1, 0, 0, 0, 0, 0, 0, 0, 0, 0, 0,\n",
    "       0, 0, 0, 0, 0, 0, 0, 0, 0, 0, 0, 0, 0, 0, 0, 0, 0, 0, 0, 0, 0, 0,\n",
    "       0, 0, 0, 0, 0, 0, 0, 0, 0, 0, 0, 0, 0, 0, 0, 0, 0, 0])"
   ]
  },
  {
   "cell_type": "code",
   "execution_count": 22,
   "metadata": {},
   "outputs": [],
   "source": [
    "x_setosa = xs[:50]\n",
    "y_setosa = mus[:50]\n",
    "x_virginica = xs[50:100]\n",
    "y_virginica = mus[50:100]\n",
    "x_versicolor = xs[100:]\n",
    "y_versicolor = mus[100:]"
   ]
  },
  {
   "cell_type": "code",
   "execution_count": 23,
   "metadata": {},
   "outputs": [
    {
     "data": {
      "image/png": "[encoded data removed]",
      "text/plain": [
       "<Figure size 432x288 with 1 Axes>"
      ]
     },
     "metadata": {
      "needs_background": "light"
     },
     "output_type": "display_data"
    }
   ],
   "source": [
    "import matplotlib.pyplot as plt\n",
    "\n",
    "plt.scatter(*x_versicolor.T, c=y_versicolor)\n",
    "plt.show()"
   ]
  },
  {
   "cell_type": "code",
   "execution_count": 24,
   "metadata": {},
   "outputs": [],
   "source": [
    "from mulearn.kernel import GaussianKernel\n",
    "\n",
    "k = GaussianKernel()\n",
    "\n",
    "c = 2"
   ]
  },
  {
   "cell_type": "code",
   "execution_count": 25,
   "metadata": {},
   "outputs": [],
   "source": [
    "m = len(xs)"
   ]
  },
  {
   "cell_type": "code",
   "execution_count": 26,
   "metadata": {},
   "outputs": [],
   "source": [
    "import tensorflow as tf"
   ]
  },
  {
   "cell_type": "code",
   "execution_count": 186,
   "metadata": {},
   "outputs": [],
   "source": [
    "alphas = [tf.Variable(ch, name=f'alpha_{i}', trainable=True, dtype=tf.float32)\n",
    "          for i, ch in enumerate(np.random.uniform(-0.1, 0.1, m))]\n",
    "betas = [tf.Variable(ch, name=f'beta_{i}', trainable=True, dtype=tf.float32)\n",
    "         for i, ch in enumerate(np.random.uniform(-0.1, 0.1, m))]"
   ]
  },
  {
   "cell_type": "code",
   "execution_count": 187,
   "metadata": {},
   "outputs": [],
   "source": [
    "gram = np.array([[k.compute(x1, x2) for x2 in xs] for x1 in xs])"
   ]
  },
  {
   "cell_type": "code",
   "execution_count": 188,
   "metadata": {},
   "outputs": [],
   "source": [
    "x = alphas + betas"
   ]
  },
  {
   "cell_type": "code",
   "execution_count": 189,
   "metadata": {},
   "outputs": [],
   "source": [
    "K11 = np.array([[-mu_i * mu_j for mu_j in mus] for mu_i in mus]) * gram\n",
    "K00 = np.array([[-(1-mu_i) * (1 - mu_j) for mu_j in mus] for mu_i in mus]) * gram\n",
    "K01 = np.array([[2 * mu_i * (1-mu_j) for mu_j in mus] for mu_i in mus]) * gram\n",
    "Z = np.zeros((m, m))"
   ]
  },
  {
   "cell_type": "code",
   "execution_count": 190,
   "metadata": {},
   "outputs": [],
   "source": [
    "Q = -np.vstack((np.hstack((K11, K01)), np.hstack((Z, K00))))\n",
    "q = -np.hstack((np.diag(gram) * mus, np.diag(gram) * (1 - mus)))"
   ]
  },
  {
   "cell_type": "code",
   "execution_count": 191,
   "metadata": {},
   "outputs": [],
   "source": [
    "A = np.array([np.hstack((mus, 1-mus))])\n",
    "b = np.array([1])"
   ]
  },
  {
   "cell_type": "code",
   "execution_count": 192,
   "metadata": {},
   "outputs": [],
   "source": [
    "C = np.vstack((np.hstack((np.identity(m), np.zeros((m, m)))),\n",
    "               np.hstack((np.zeros((m, m)), -np.identity(m)))))\n",
    "d = np.hstack((np.zeros(m), - c * np.ones(m)))"
   ]
  },
  {
   "cell_type": "code",
   "execution_count": 193,
   "metadata": {},
   "outputs": [],
   "source": [
    "x = np.random.random(2*m)\n",
    "assert(Q.shape == (2*m, 2*m))\n",
    "assert(len(q) == 2*m)\n",
    "assert(type(x @ (Q @ x) + q @ x) is np.float64)\n",
    "\n",
    "assert(A.shape == (1, 2*m))\n",
    "assert(len(b) == 1)\n",
    "assert(type(A@x - b) == np.ndarray)\n",
    "assert(len(A@x - b) == 1)\n",
    "\n",
    "assert(C.shape == (2*m, 2*m))\n",
    "assert(len(d) == 2*m)\n",
    "assert(type(C @ x - d) == np.ndarray)\n",
    "assert(len(C @ x - d) == 2*m)"
   ]
  },
  {
   "cell_type": "code",
   "execution_count": 27,
   "metadata": {},
   "outputs": [],
   "source": [
    "import tensorflow as tf\n",
    "from tensorflow.keras.optimizers import Adam\n",
    "\n",
    "def solve_lagrange_relaxation(Q, q, A, b, C, d,\n",
    "                  max_iter=1000,\n",
    "                  max_gap=10**-4,\n",
    "                  alpha_0 = 10**-1,\n",
    "                  window_width = 30,\n",
    "                  verbose=False):\n",
    "    \"\"\"Solves the lagrangian relaxation for a constrained optimization\n",
    "    problem and returns its result. The structure of the primal problem\n",
    "    is the following\n",
    "    \n",
    "    min x.T Q x + q.T x\n",
    "    subject to\n",
    "    A x = b\n",
    "    C x <= d\n",
    "    \n",
    "    where .T denotes the transposition operator. Optimization takes place\n",
    "    in a iterated two-steps procedure: an outer process devoted to modifying\n",
    "    the values of the lagrange multipliers, and an inner process working on\n",
    "    the primal variables.\n",
    "    \n",
    "    The arguments are as follows, given n as the number of variables of\n",
    "    the primal problem (i.e., the length of x)\n",
    "    \n",
    "    - Q: n x n matrix containing the quadratic coefficients of the cost\n",
    "    function;\n",
    "    - q: vector containing the n linear coefficients of the cost function\n",
    "    - A: s x n matrix containing the coefficients of the = constraints\n",
    "    - b: vector containing the s right members of the = constraints\n",
    "    - C: t x n matrix containing the coefficients of the <= constraings\n",
    "    - d: vector containing the t right members of the <= coefficients\n",
    "    - max_iter: maximum number of iterations of the *outer* optimization\n",
    "    procedure\n",
    "    - max_gap: maximum gap between primal and dual objectives ensuring\n",
    "    premature end of the *outer* optimization procedure\n",
    "    - alpha_0: initial value of the learning rate in the *outer* optimization\n",
    "    procedure\n",
    "    - window_width: width of the moving window on the objective function for\n",
    "    the *inner* optimization process\n",
    "    - verbose: boolean flag triggering verbose output\n",
    "    \n",
    "    returns\n",
    "    \"\"\"\n",
    "\n",
    "    #TODO add possibility to specify initial values\n",
    "\n",
    "    x = tf.Variable(np.random.random(len(q)),\n",
    "                    name='x',\n",
    "                    trainable=True,\n",
    "                    dtype=tf.float32)\n",
    "    Q = tf.constant(np.array(Q), dtype='float32')\n",
    "    q = tf.constant(np.array(q), dtype='float32')\n",
    "    \n",
    "    A = np.array(A)\n",
    "    s = len(A)\n",
    "    C = np.array(C)\n",
    "    b = np.array(b)\n",
    "    d = np.array(d)\n",
    "    \n",
    "    M = np.vstack([A, -A, C])\n",
    "    m = np.hstack([b, -b, d])\n",
    "    lambda_ = tf.constant(np.random.random(len(m)), dtype='float32')\n",
    "    \n",
    "    M = tf.constant(M, dtype='float32')\n",
    "    m = tf.constant(m, dtype='float32')\n",
    "\n",
    "    \n",
    "    def original_objective():\n",
    "        def obj():\n",
    "            return tf.tensordot(tf.linalg.matvec(Q, x), x, axes=1) + \\\n",
    "                tf.tensordot(q, x, axes=1)\n",
    "        return obj\n",
    "\n",
    "    def lagrangian_objective(lambda_):\n",
    "        def obj():\n",
    "            return tf.tensordot(tf.linalg.matvec(Q, x), x, axes=1) + \\\n",
    "                tf.tensordot(q, x, axes=1) + \\\n",
    "                tf.tensordot(lambda_, m - tf.linalg.matvec(M, x), axes=1)\n",
    "        return obj\n",
    "\n",
    "    obj_val = []\n",
    "    lagr_val = []\n",
    "    gap_val = []\n",
    "    gap = max_gap + 1\n",
    "\n",
    "    num_bad_iterations = 0\n",
    "    prev_orig = np.inf\n",
    "\n",
    "    i = 0\n",
    "    \n",
    "    while i < max_iter and (gap<0 or gap > max_gap):\n",
    "        lagr_obj = lagrangian_objective(lambda_)\n",
    "        orig_obj = original_objective()\n",
    "        prev_lagr = 10*3\n",
    "        curr_lagr = 0\n",
    "        vals = []\n",
    "        t = 0\n",
    "        window_width = 30\n",
    "        window = list(np.logspace(1, window_width, window_width))\n",
    "        # this is to ensure a high value for the standard deviation\n",
    "        # of the elements to which the window has been initialized \n",
    "        \n",
    "        while (np.std(window)/abs(np.mean(window)) > 0.001 or t < 100) \\\n",
    "            and t < 1000:\n",
    "            optimizer.minimize(lagr_obj, var_list=x)\n",
    "            prev_lagr = curr_lagr\n",
    "            curr_lagr = lagr_obj().numpy()\n",
    "            vals.append(curr_lagr)\n",
    "            t += 1\n",
    "            window = window[1:]\n",
    "            window.append(curr_lagr)\n",
    "        \n",
    "        curr_orig = orig_obj().numpy()\n",
    "        if curr_orig < prev_orig:\n",
    "            num_bad_iterations += 1\n",
    "\n",
    "        prev_orig = curr_orig\n",
    "\n",
    "        \n",
    "        obj_val.append(curr_orig)\n",
    "        lagr_val.append(curr_lagr)\n",
    "        \n",
    "        subgradient = (m - tf.linalg.matvec(M, x)).numpy()\n",
    "        gap = tf.tensordot(lambda_[:2*s], m[:2*s] - \\\n",
    "            tf.linalg.matvec(M[:2*s], x), axes=1).numpy()\n",
    "        gap_val.append(gap)\n",
    "        \n",
    "        if verbose and i%10 == 0:\n",
    "            print(f'i={i}, dual={lagr_obj().numpy():.3f}, '\n",
    "                f'prim={orig_obj().numpy():.3f}, '\n",
    "                f'gap={gap:.6f}')\n",
    "        \n",
    "        alpha = alpha_0 / num_bad_iterations\n",
    "        lambda_ = tf.maximum(0, lambda_ + alpha * subgradient)\n",
    "\n",
    "        i += 1\n",
    "\n",
    "    return obj_val, lagr_val, x, lambda_, gap_val"
   ]
  },
  {
   "cell_type": "code",
   "execution_count": 28,
   "metadata": {},
   "outputs": [
    {
     "ename": "NameError",
     "evalue": "name 'optimizer' is not defined",
     "output_type": "error",
     "traceback": [
      "\u001b[0;31m---------------------------------------------------------------------------\u001b[0m",
      "\u001b[0;31mNameError\u001b[0m                                 Traceback (most recent call last)",
      "\u001b[0;32m<ipython-input-28-963def183f2b>\u001b[0m in \u001b[0;36m<module>\u001b[0;34m\u001b[0m\n\u001b[0;32m----> 1\u001b[0;31m \u001b[0msol\u001b[0m \u001b[0;34m=\u001b[0m \u001b[0msolve_lagrange_relaxation\u001b[0m\u001b[0;34m(\u001b[0m\u001b[0mQ\u001b[0m\u001b[0;34m,\u001b[0m \u001b[0mq\u001b[0m\u001b[0;34m,\u001b[0m \u001b[0mA\u001b[0m\u001b[0;34m,\u001b[0m \u001b[0mb\u001b[0m\u001b[0;34m,\u001b[0m \u001b[0mC\u001b[0m\u001b[0;34m,\u001b[0m \u001b[0md\u001b[0m\u001b[0;34m,\u001b[0m \u001b[0mverbose\u001b[0m\u001b[0;34m=\u001b[0m\u001b[0;32mTrue\u001b[0m\u001b[0;34m)\u001b[0m\u001b[0;34m\u001b[0m\u001b[0;34m\u001b[0m\u001b[0m\n\u001b[0m",
      "\u001b[0;32m<ipython-input-27-68da92045314>\u001b[0m in \u001b[0;36msolve_lagrange_relaxation\u001b[0;34m(Q, q, A, b, C, d, max_iter, max_gap, alpha_0, window_width, verbose)\u001b[0m\n\u001b[1;32m    105\u001b[0m         \u001b[0;32mwhile\u001b[0m \u001b[0;34m(\u001b[0m\u001b[0mnp\u001b[0m\u001b[0;34m.\u001b[0m\u001b[0mstd\u001b[0m\u001b[0;34m(\u001b[0m\u001b[0mwindow\u001b[0m\u001b[0;34m)\u001b[0m\u001b[0;34m/\u001b[0m\u001b[0mabs\u001b[0m\u001b[0;34m(\u001b[0m\u001b[0mnp\u001b[0m\u001b[0;34m.\u001b[0m\u001b[0mmean\u001b[0m\u001b[0;34m(\u001b[0m\u001b[0mwindow\u001b[0m\u001b[0;34m)\u001b[0m\u001b[0;34m)\u001b[0m \u001b[0;34m>\u001b[0m \u001b[0;36m0.001\u001b[0m \u001b[0;32mor\u001b[0m \u001b[0mt\u001b[0m \u001b[0;34m<\u001b[0m \u001b[0;36m100\u001b[0m\u001b[0;34m)\u001b[0m\u001b[0;31m \u001b[0m\u001b[0;31m\\\u001b[0m\u001b[0;34m\u001b[0m\u001b[0;34m\u001b[0m\u001b[0m\n\u001b[1;32m    106\u001b[0m             \u001b[0;32mand\u001b[0m \u001b[0mt\u001b[0m \u001b[0;34m<\u001b[0m \u001b[0;36m1000\u001b[0m\u001b[0;34m:\u001b[0m\u001b[0;34m\u001b[0m\u001b[0;34m\u001b[0m\u001b[0m\n\u001b[0;32m--> 107\u001b[0;31m             \u001b[0moptimizer\u001b[0m\u001b[0;34m.\u001b[0m\u001b[0mminimize\u001b[0m\u001b[0;34m(\u001b[0m\u001b[0mlagr_obj\u001b[0m\u001b[0;34m,\u001b[0m \u001b[0mvar_list\u001b[0m\u001b[0;34m=\u001b[0m\u001b[0mx\u001b[0m\u001b[0;34m)\u001b[0m\u001b[0;34m\u001b[0m\u001b[0;34m\u001b[0m\u001b[0m\n\u001b[0m\u001b[1;32m    108\u001b[0m             \u001b[0mprev_lagr\u001b[0m \u001b[0;34m=\u001b[0m \u001b[0mcurr_lagr\u001b[0m\u001b[0;34m\u001b[0m\u001b[0;34m\u001b[0m\u001b[0m\n\u001b[1;32m    109\u001b[0m             \u001b[0mcurr_lagr\u001b[0m \u001b[0;34m=\u001b[0m \u001b[0mlagr_obj\u001b[0m\u001b[0;34m(\u001b[0m\u001b[0;34m)\u001b[0m\u001b[0;34m.\u001b[0m\u001b[0mnumpy\u001b[0m\u001b[0;34m(\u001b[0m\u001b[0;34m)\u001b[0m\u001b[0;34m\u001b[0m\u001b[0;34m\u001b[0m\u001b[0m\n",
      "\u001b[0;31mNameError\u001b[0m: name 'optimizer' is not defined"
     ]
    }
   ],
   "source": [
    "sol = solve_lagrange_relaxation(Q, q, A, b, C, d, verbose=True)"
   ]
  },
  {
   "cell_type": "code",
   "execution_count": 64,
   "metadata": {},
   "outputs": [],
   "source": [
    "from mulearn import FuzzyInductor"
   ]
  },
  {
   "cell_type": "code",
   "execution_count": 65,
   "metadata": {},
   "outputs": [
    {
     "data": {
      "text/html": [
       "<div>\n",
       "<style scoped>\n",
       "    .dataframe tbody tr th:only-of-type {\n",
       "        vertical-align: middle;\n",
       "    }\n",
       "\n",
       "    .dataframe tbody tr th {\n",
       "        vertical-align: top;\n",
       "    }\n",
       "\n",
       "    .dataframe thead th {\n",
       "        text-align: right;\n",
       "    }\n",
       "</style>\n",
       "<table border=\"1\" class=\"dataframe\">\n",
       "  <thead>\n",
       "    <tr style=\"text-align: right;\">\n",
       "      <th></th>\n",
       "      <th>Sepal length</th>\n",
       "      <th>Sepal width</th>\n",
       "      <th>Petal length</th>\n",
       "      <th>Petal width</th>\n",
       "      <th>Class</th>\n",
       "    </tr>\n",
       "  </thead>\n",
       "  <tbody>\n",
       "    <tr>\n",
       "      <th>0</th>\n",
       "      <td>5.1</td>\n",
       "      <td>3.5</td>\n",
       "      <td>1.4</td>\n",
       "      <td>0.2</td>\n",
       "      <td>Setosa</td>\n",
       "    </tr>\n",
       "    <tr>\n",
       "      <th>1</th>\n",
       "      <td>4.9</td>\n",
       "      <td>3.0</td>\n",
       "      <td>1.4</td>\n",
       "      <td>0.2</td>\n",
       "      <td>Setosa</td>\n",
       "    </tr>\n",
       "    <tr>\n",
       "      <th>2</th>\n",
       "      <td>4.7</td>\n",
       "      <td>3.2</td>\n",
       "      <td>1.3</td>\n",
       "      <td>0.2</td>\n",
       "      <td>Setosa</td>\n",
       "    </tr>\n",
       "    <tr>\n",
       "      <th>3</th>\n",
       "      <td>4.6</td>\n",
       "      <td>3.1</td>\n",
       "      <td>1.5</td>\n",
       "      <td>0.2</td>\n",
       "      <td>Setosa</td>\n",
       "    </tr>\n",
       "    <tr>\n",
       "      <th>4</th>\n",
       "      <td>5.0</td>\n",
       "      <td>3.6</td>\n",
       "      <td>1.4</td>\n",
       "      <td>0.2</td>\n",
       "      <td>Setosa</td>\n",
       "    </tr>\n",
       "  </tbody>\n",
       "</table>\n",
       "</div>"
      ],
      "text/plain": [
       "   Sepal length  Sepal width  Petal length  Petal width   Class\n",
       "0           5.1          3.5           1.4          0.2  Setosa\n",
       "1           4.9          3.0           1.4          0.2  Setosa\n",
       "2           4.7          3.2           1.3          0.2  Setosa\n",
       "3           4.6          3.1           1.5          0.2  Setosa\n",
       "4           5.0          3.6           1.4          0.2  Setosa"
      ]
     },
     "execution_count": 65,
     "metadata": {},
     "output_type": "execute_result"
    }
   ],
   "source": [
    "import sklearn.datasets as ds\n",
    "import pandas as pd\n",
    "import numpy as np\n",
    "\n",
    "iris_X, iris_y = ds.load_iris(return_X_y=True)\n",
    "labels = (\"Setosa\", \"Versicolor\", \"Virginica\")\n",
    "\n",
    "df = pd.DataFrame(iris_X, columns=[\"Sepal length\", \"Sepal width\",\n",
    "                                   \"Petal length\", \"Petal width\"])\n",
    "df['Class'] = iris_y\n",
    "df['Class'] = df['Class'].map(lambda c: labels[c])\n",
    "\n",
    "n = 20\n",
    "filt = list(range(n)) + list(range(50, 50+n)) + list(range(100, 100+n))\n",
    "df = df.iloc[filt]\n",
    "\n",
    "df.head()"
   ]
  },
  {
   "cell_type": "code",
   "execution_count": 68,
   "metadata": {},
   "outputs": [],
   "source": [
    "from sklearn.decomposition import PCA\n",
    "\n",
    "pca_2d = PCA(n_components=2)\n",
    "iris_X_2d = pca_2d.fit_transform(iris_X)\n",
    "\n",
    "iris_versicolor = iris_y.copy()\n",
    "iris_versicolor[iris_versicolor==2] = 0"
   ]
  },
  {
   "cell_type": "code",
   "execution_count": 69,
   "metadata": {
    "scrolled": true
   },
   "outputs": [
    {
     "name": "stdout",
     "output_type": "stream",
     "text": [
      "i=0, dual=84.635, prim=199.500, gap=-24.857178\n",
      "i=1, dual=246.053, prim=95.179, gap=238.169327\n",
      "i=2, dual=137.486, prim=40.764, gap=184.895874\n",
      "i=3, dual=4.881, prim=19.151, gap=75.698135\n",
      "i=4, dual=-111.176, prim=22.535, gap=-41.804054\n",
      "i=5, dual=-194.083, prim=44.114, gap=-145.712219\n",
      "i=6, dual=-228.858, prim=72.774, gap=-209.830170\n",
      "i=7, dual=-214.605, prim=91.062, gap=-215.534698\n",
      "i=8, dual=-157.018, prim=89.960, gap=-164.202484\n",
      "i=9, dual=-118.497, prim=75.431, gap=-114.787430\n",
      "i=10, dual=-95.482, prim=54.310, gap=-72.577797\n",
      "i=11, dual=-81.655, prim=38.332, gap=-44.545723\n",
      "i=12, dual=-73.340, prim=27.509, gap=-27.201050\n",
      "i=13, dual=-68.334, prim=20.285, gap=-16.700634\n",
      "i=14, dual=-65.239, prim=15.392, gap=-10.366112\n",
      "i=15, dual=-63.246, prim=11.960, gap=-6.509422\n",
      "i=16, dual=-61.799, prim=9.491, gap=-4.143932\n",
      "i=17, dual=-60.623, prim=7.663, gap=-2.674896\n",
      "i=18, dual=-59.541, prim=6.288, gap=-1.752708\n",
      "i=19, dual=-58.488, prim=5.255, gap=-1.169506\n",
      "i=20, dual=-57.410, prim=4.470, gap=-0.792775\n",
      "i=21, dual=-56.307, prim=3.864, gap=-0.541886\n",
      "i=22, dual=-55.169, prim=3.393, gap=-0.370269\n",
      "i=23, dual=-54.081, prim=2.967, gap=-0.234011\n",
      "i=24, dual=-53.065, prim=2.561, gap=-0.117227\n",
      "i=25, dual=-52.112, prim=2.175, gap=-0.013980\n",
      "i=26, dual=-51.203, prim=1.810, gap=0.080680\n",
      "i=27, dual=-50.339, prim=1.464, gap=0.170604\n",
      "i=28, dual=-49.535, prim=1.137, gap=0.258645\n",
      "i=29, dual=-48.784, prim=0.828, gap=0.346807\n",
      "i=30, dual=-48.068, prim=0.535, gap=0.436419\n",
      "i=31, dual=-47.366, prim=0.260, gap=0.528290\n",
      "i=32, dual=-46.682, prim=-0.001, gap=0.622826\n",
      "i=33, dual=-46.016, prim=-0.246, gap=0.720136\n",
      "i=34, dual=-45.370, prim=-0.478, gap=0.820123\n",
      "i=35, dual=-44.742, prim=-0.695, gap=0.922506\n",
      "i=36, dual=-44.136, prim=-0.900, gap=1.026908\n",
      "i=37, dual=-43.537, prim=-1.093, gap=1.132881\n",
      "i=38, dual=-42.946, prim=-1.274, gap=1.239928\n",
      "i=39, dual=-42.369, prim=-1.444, gap=1.347518\n",
      "i=40, dual=-41.801, prim=-1.604, gap=1.455105\n",
      "i=41, dual=-41.256, prim=-1.753, gap=1.562135\n",
      "i=42, dual=-40.732, prim=-1.894, gap=1.668053\n",
      "i=43, dual=-40.218, prim=-2.025, gap=1.772294\n",
      "i=44, dual=-39.728, prim=-2.147, gap=1.874327\n",
      "i=45, dual=-39.266, prim=-2.261, gap=1.973700\n",
      "i=46, dual=-38.828, prim=-2.367, gap=2.069994\n",
      "i=47, dual=-38.424, prim=-2.465, gap=2.162792\n",
      "i=48, dual=-38.032, prim=-2.557, gap=2.251793\n",
      "i=49, dual=-37.645, prim=-2.641, gap=2.336716\n",
      "i=50, dual=-37.262, prim=-2.718, gap=2.417339\n",
      "i=51, dual=-36.897, prim=-2.789, gap=2.493479\n",
      "i=52, dual=-36.548, prim=-2.854, gap=2.564993\n",
      "i=53, dual=-36.220, prim=-2.912, gap=2.631777\n",
      "i=54, dual=-35.917, prim=-2.965, gap=2.693792\n",
      "i=55, dual=-35.635, prim=-3.012, gap=2.751019\n",
      "i=56, dual=-35.358, prim=-3.053, gap=2.803482\n",
      "i=57, dual=-35.088, prim=-3.090, gap=2.851236\n",
      "i=58, dual=-34.828, prim=-3.121, gap=2.894341\n",
      "i=59, dual=-34.573, prim=-3.148, gap=2.932899\n",
      "i=60, dual=-34.321, prim=-3.170, gap=2.967033\n",
      "i=61, dual=-34.074, prim=-3.188, gap=2.996821\n",
      "i=62, dual=-33.835, prim=-3.202, gap=3.022382\n",
      "i=63, dual=-33.608, prim=-3.211, gap=3.043778\n",
      "i=64, dual=-33.383, prim=-3.217, gap=3.061228\n",
      "i=65, dual=-33.162, prim=-3.219, gap=3.074911\n",
      "i=66, dual=-32.944, prim=-3.218, gap=3.084978\n",
      "i=67, dual=-32.729, prim=-3.212, gap=3.091421\n",
      "i=68, dual=-32.519, prim=-3.203, gap=3.094049\n",
      "i=69, dual=-32.311, prim=-3.189, gap=3.092759\n",
      "i=70, dual=-32.103, prim=-3.171, gap=3.087482\n",
      "i=71, dual=-31.904, prim=-3.149, gap=3.078171\n",
      "i=72, dual=-31.710, prim=-3.123, gap=3.064790\n",
      "i=73, dual=-31.511, prim=-3.092, gap=3.047324\n",
      "i=74, dual=-31.309, prim=-3.058, gap=3.025771\n",
      "i=75, dual=-31.103, prim=-3.020, gap=3.000148\n",
      "i=76, dual=-30.897, prim=-2.978, gap=2.970496\n",
      "i=77, dual=-30.689, prim=-2.933, gap=2.936878\n",
      "i=78, dual=-30.479, prim=-2.884, gap=2.899373\n",
      "i=79, dual=-30.272, prim=-2.831, gap=2.858090\n",
      "i=80, dual=-30.071, prim=-2.776, gap=2.813154\n",
      "i=81, dual=-29.865, prim=-2.717, gap=2.764702\n",
      "i=82, dual=-29.661, prim=-2.656, gap=2.712890\n",
      "i=83, dual=-29.460, prim=-2.591, gap=2.657818\n",
      "i=84, dual=-29.262, prim=-2.525, gap=2.599531\n",
      "i=85, dual=-29.073, prim=-2.455, gap=2.538241\n",
      "i=86, dual=-28.881, prim=-2.384, gap=2.474134\n",
      "i=87, dual=-28.687, prim=-2.311, gap=2.407346\n",
      "i=88, dual=-28.489, prim=-2.236, gap=2.338046\n",
      "i=89, dual=-28.287, prim=-2.159, gap=2.266394\n",
      "i=90, dual=-28.086, prim=-2.081, gap=2.192539\n",
      "i=91, dual=-27.894, prim=-2.001, gap=2.116631\n",
      "i=92, dual=-27.712, prim=-1.921, gap=2.038815\n",
      "i=93, dual=-27.532, prim=-1.839, gap=1.959213\n",
      "i=94, dual=-27.349, prim=-1.757, gap=1.877919\n",
      "i=95, dual=-27.164, prim=-1.673, gap=1.795208\n",
      "i=96, dual=-26.979, prim=-1.590, gap=1.711246\n",
      "i=97, dual=-26.794, prim=-1.506, gap=1.626230\n",
      "i=98, dual=-26.612, prim=-1.422, gap=1.540386\n",
      "i=99, dual=-26.427, prim=-1.337, gap=1.453950\n",
      "i=100, dual=-26.243, prim=-1.254, gap=1.367166\n",
      "i=101, dual=-26.058, prim=-1.170, gap=1.280293\n",
      "i=102, dual=-25.868, prim=-1.088, gap=1.193491\n",
      "i=103, dual=-25.681, prim=-1.006, gap=1.106845\n",
      "i=104, dual=-25.495, prim=-0.925, gap=1.020743\n",
      "i=105, dual=-25.314, prim=-0.845, gap=0.935525\n",
      "i=106, dual=-25.133, prim=-0.767, gap=0.851491\n",
      "i=107, dual=-24.956, prim=-0.690, gap=0.768918\n",
      "i=108, dual=-24.774, prim=-0.615, gap=0.688071\n",
      "i=109, dual=-24.589, prim=-0.543, gap=0.609182\n",
      "i=110, dual=-24.407, prim=-0.472, gap=0.532470\n",
      "i=111, dual=-24.239, prim=-0.404, gap=0.458141\n",
      "i=112, dual=-24.068, prim=-0.339, gap=0.386371\n",
      "i=113, dual=-23.897, prim=-0.276, gap=0.317340\n",
      "i=114, dual=-23.726, prim=-0.215, gap=0.251189\n",
      "i=115, dual=-23.550, prim=-0.158, gap=0.188057\n",
      "i=116, dual=-23.371, prim=-0.103, gap=0.127762\n",
      "i=117, dual=-23.189, prim=-0.051, gap=0.070628\n",
      "i=118, dual=-23.003, prim=-0.003, gap=0.016804\n",
      "i=119, dual=-22.812, prim=0.043, gap=-0.033605\n",
      "i=120, dual=-22.622, prim=0.086, gap=-0.080504\n",
      "i=121, dual=-22.433, prim=0.125, gap=-0.123821\n",
      "i=122, dual=-22.239, prim=0.161, gap=-0.163458\n",
      "i=123, dual=-22.042, prim=0.194, gap=-0.199362\n",
      "i=124, dual=-21.840, prim=0.224, gap=-0.231471\n",
      "i=125, dual=-21.634, prim=0.250, gap=-0.259754\n",
      "i=126, dual=-21.423, prim=0.272, gap=-0.284167\n",
      "i=127, dual=-21.209, prim=0.292, gap=-0.304688\n",
      "i=128, dual=-20.991, prim=0.308, gap=-0.321302\n",
      "i=129, dual=-20.768, prim=0.320, gap=-0.334010\n",
      "i=130, dual=-20.542, prim=0.329, gap=-0.342819\n",
      "i=131, dual=-20.320, prim=0.335, gap=-0.347759\n",
      "i=132, dual=-20.105, prim=0.337, gap=-0.348873\n",
      "i=133, dual=-19.885, prim=0.336, gap=-0.346239\n",
      "i=134, dual=-19.673, prim=0.332, gap=-0.340366\n",
      "i=135, dual=-19.475, prim=0.326, gap=-0.331475\n",
      "i=136, dual=-19.279, prim=0.317, gap=-0.319581\n",
      "i=137, dual=-19.086, prim=0.306, gap=-0.305156\n",
      "i=138, dual=-18.901, prim=0.293, gap=-0.288366\n",
      "i=139, dual=-18.716, prim=0.277, gap=-0.269295\n",
      "i=140, dual=-18.532, prim=0.261, gap=-0.248220\n",
      "i=141, dual=-18.356, prim=0.242, gap=-0.225405\n",
      "i=142, dual=-18.184, prim=0.223, gap=-0.201136\n",
      "i=143, dual=-18.012, prim=0.202, gap=-0.175688\n",
      "i=144, dual=-17.843, prim=0.181, gap=-0.149484\n",
      "i=145, dual=-17.678, prim=0.160, gap=-0.122656\n",
      "i=146, dual=-17.522, prim=0.138, gap=-0.095426\n",
      "i=147, dual=-17.367, prim=0.116, gap=-0.068019\n",
      "i=148, dual=-17.216, prim=0.094, gap=-0.040619\n",
      "i=149, dual=-17.064, prim=0.072, gap=-0.013441\n",
      "i=150, dual=-16.913, prim=0.051, gap=0.013350\n",
      "i=151, dual=-16.763, prim=0.030, gap=0.039584\n",
      "i=152, dual=-16.615, prim=0.010, gap=0.065127\n",
      "i=153, dual=-16.474, prim=-0.009, gap=0.089830\n",
      "i=154, dual=-16.338, prim=-0.028, gap=0.113590\n",
      "i=155, dual=-16.203, prim=-0.046, gap=0.136268\n",
      "i=156, dual=-16.071, prim=-0.062, gap=0.157770\n",
      "i=157, dual=-15.945, prim=-0.077, gap=0.177998\n",
      "i=158, dual=-15.818, prim=-0.092, gap=0.196846\n",
      "i=159, dual=-15.694, prim=-0.105, gap=0.214272\n",
      "i=160, dual=-15.572, prim=-0.116, gap=0.230133\n",
      "i=161, dual=-15.450, prim=-0.126, gap=0.244269\n",
      "i=162, dual=-15.328, prim=-0.135, gap=0.256586\n",
      "i=163, dual=-15.206, prim=-0.141, gap=0.267013\n",
      "i=164, dual=-15.084, prim=-0.147, gap=0.275495\n",
      "i=165, dual=-14.963, prim=-0.150, gap=0.281619\n",
      "i=166, dual=-14.846, prim=-0.151, gap=0.285786\n",
      "i=167, dual=-14.731, prim=-0.151, gap=0.287797\n",
      "i=168, dual=-14.614, prim=-0.149, gap=0.287481\n",
      "i=169, dual=-14.496, prim=-0.144, gap=0.284549\n",
      "i=170, dual=-14.376, prim=-0.138, gap=0.279298\n",
      "i=171, dual=-14.254, prim=-0.130, gap=0.271759\n",
      "i=172, dual=-14.130, prim=-0.119, gap=0.261992\n",
      "i=173, dual=-14.004, prim=-0.108, gap=0.250114\n",
      "i=174, dual=-13.876, prim=-0.094, gap=0.236279\n",
      "i=175, dual=-13.751, prim=-0.079, gap=0.220679\n",
      "i=176, dual=-13.627, prim=-0.064, gap=0.203557\n"
     ]
    },
    {
     "name": "stdout",
     "output_type": "stream",
     "text": [
      "i=177, dual=-13.500, prim=-0.047, gap=0.185203\n",
      "i=178, dual=-13.377, prim=-0.029, gap=0.165930\n",
      "i=179, dual=-13.254, prim=-0.011, gap=0.146093\n",
      "i=180, dual=-13.132, prim=0.007, gap=0.126090\n",
      "i=181, dual=-13.015, prim=0.024, gap=0.106297\n",
      "i=182, dual=-12.901, prim=0.041, gap=0.087084\n",
      "i=183, dual=-12.786, prim=0.057, gap=0.068834\n",
      "i=184, dual=-12.668, prim=0.072, gap=0.051902\n",
      "i=185, dual=-12.550, prim=0.086, gap=0.036589\n",
      "i=186, dual=-12.431, prim=0.097, gap=0.023218\n",
      "i=187, dual=-12.309, prim=0.107, gap=0.012126\n",
      "i=188, dual=-12.186, prim=0.114, gap=0.003587\n"
     ]
    },
    {
     "data": {
      "text/plain": [
       "FuzzyInductor(c=1, k=GaussianKernel(sigma=0.3), f=LinearFuzzifier(), solver=TensorFlowSolver(, optimizer=<tensorflow.python.keras.optimizer_v2.adam.Adam object at 0x7fb9e1dc0ad0>))"
      ]
     },
     "execution_count": 69,
     "metadata": {},
     "output_type": "execute_result"
    }
   ],
   "source": [
    "from mulearn.optimization import TensorFlowSolver\n",
    "from mulearn.fuzzifier import LinearFuzzifier\n",
    "\n",
    "\n",
    "opt = tf.optimizers.Adam(learning_rate=1e-4)\n",
    "\n",
    "fitf = FuzzyInductor(solver=TensorFlowSolver(optimizer=opt),\n",
    "                     k=GaussianKernel(sigma=0.3),\n",
    "                     fuzzifier=LinearFuzzifier())\n",
    "fitf.fit(iris_X_2d, iris_versicolor)"
   ]
  },
  {
   "cell_type": "code",
   "execution_count": 70,
   "metadata": {},
   "outputs": [
    {
     "data": {
      "text/plain": [
       "array([0, 0, 0, 0, 0, 0, 0, 0, 0, 0, 0, 0, 0, 1, 1, 1, 0, 0, 1, 0, 0, 0,\n",
       "       0, 0, 0, 0, 0, 0, 0, 0, 0, 0, 0, 0, 0, 0, 0, 0, 0, 0, 0, 1, 0, 0,\n",
       "       0, 0, 0, 0, 0, 0, 1, 1, 1, 1, 1, 1, 1, 1, 1, 1, 1, 1, 1, 1, 1, 1,\n",
       "       1, 1, 1, 1, 1, 1, 0, 1, 1, 1, 1, 1, 1, 1, 1, 1, 1, 0, 1, 1, 1, 1,\n",
       "       1, 1, 1, 1, 1, 1, 1, 1, 1, 1, 1, 1, 0, 0, 0, 0, 0, 1, 1, 1, 0, 1,\n",
       "       0, 0, 0, 1, 0, 0, 0, 1, 1, 1, 0, 1, 1, 0, 0, 0, 0, 1, 0, 0, 0, 1,\n",
       "       0, 0, 0, 1, 0, 0, 1, 0, 0, 0, 0, 0, 0, 0, 0, 0, 0, 0])"
      ]
     },
     "execution_count": 70,
     "metadata": {},
     "output_type": "execute_result"
    }
   ],
   "source": [
    "fitf.predict(iris_X_2d, alpha=0.5)"
   ]
  },
  {
   "cell_type": "code",
   "execution_count": 71,
   "metadata": {},
   "outputs": [
    {
     "data": {
      "text/plain": [
       "array([0, 0, 0, 0, 0, 0, 0, 0, 0, 0, 0, 0, 0, 0, 0, 0, 0, 0, 0, 0, 0, 0,\n",
       "       0, 0, 0, 0, 0, 0, 0, 0, 0, 0, 0, 0, 0, 0, 0, 0, 0, 0, 0, 0, 0, 0,\n",
       "       0, 0, 0, 0, 0, 0, 1, 1, 1, 1, 1, 1, 1, 1, 1, 1, 1, 1, 1, 1, 1, 1,\n",
       "       1, 1, 1, 1, 1, 1, 1, 1, 1, 1, 1, 1, 1, 1, 1, 1, 1, 1, 1, 1, 1, 1,\n",
       "       1, 1, 1, 1, 1, 1, 1, 1, 1, 1, 1, 1, 0, 0, 0, 0, 0, 0, 0, 0, 0, 0,\n",
       "       0, 0, 0, 0, 0, 0, 0, 0, 0, 0, 0, 0, 0, 0, 0, 0, 0, 0, 0, 0, 0, 0,\n",
       "       0, 0, 0, 0, 0, 0, 0, 0, 0, 0, 0, 0, 0, 0, 0, 0, 0, 0])"
      ]
     },
     "execution_count": 71,
     "metadata": {},
     "output_type": "execute_result"
    }
   ],
   "source": [
    "iris_versicolor"
   ]
  },
  {
   "cell_type": "code",
   "execution_count": 86,
   "metadata": {},
   "outputs": [],
   "source": [
    "x_space = np.linspace(-4, 4, 100)\n",
    "y_space = np.linspace(-2, 2, 100)\n",
    "\n",
    "X, Y = np.meshgrid(x_space, y_space)"
   ]
  },
  {
   "cell_type": "code",
   "execution_count": 87,
   "metadata": {},
   "outputs": [],
   "source": [
    "Z = [[fitf.predict([(x, y)])[0] for x in x_space]\n",
    "     for y in y_space]"
   ]
  },
  {
   "cell_type": "code",
   "execution_count": 89,
   "metadata": {},
   "outputs": [
    {
     "data": {
      "image/png": "[encoded data removed]",
      "text/plain": [
       "<Figure size 432x288 with 1 Axes>"
      ]
     },
     "metadata": {
      "needs_background": "light"
     },
     "output_type": "display_data"
    }
   ],
   "source": [
    "import matplotlib.cm as cm \n",
    "\n",
    "plt.scatter(*iris_X_2d.T, color=cm.coolwarm(iris_versicolor*255))\n",
    "contours = plt.contour(X, Y, Z, [.5, .6, .7, .8, .9], colors='gray')\n",
    "plt.clabel(contours, inline=True, fontsize=8)\n",
    "plt.show()"
   ]
  },
  {
   "cell_type": "code",
   "execution_count": null,
   "metadata": {},
   "outputs": [],
   "source": []
  }
 ],
 "metadata": {
  "interpreter": {
   "hash": "d82ad741bcea397925f8fc8a41d76633b51eb514db0ee1fc1249c622e214eae3"
  },
  "kernelspec": {
   "display_name": "Python 3",
   "language": "python",
   "name": "python3"
  },
  "language_info": {
   "codemirror_mode": {
    "name": "ipython",
    "version": 3
   },
   "file_extension": ".py",
   "mimetype": "text/x-python",
   "name": "python",
   "nbconvert_exporter": "python",
   "pygments_lexer": "ipython3",
   "version": "3.7.12"
  },
  "latex_envs": {
   "LaTeX_envs_menu_present": true,
   "autoclose": false,
   "autocomplete": true,
   "bibliofile": "biblio.bib",
   "cite_by": "apalike",
   "current_citInitial": 1,
   "eqLabelWithNumbers": true,
   "eqNumInitial": 1,
   "hotkeys": {
    "equation": "Ctrl-E",
    "itemize": "Ctrl-I"
   },
   "labels_anchors": false,
   "latex_user_defs": false,
   "report_style_numbering": false,
   "user_envs_cfg": false
  }
 },
 "nbformat": 4,
 "nbformat_minor": 4
}
